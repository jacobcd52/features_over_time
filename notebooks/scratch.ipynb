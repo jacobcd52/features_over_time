{
 "cells": [
  {
   "cell_type": "code",
   "execution_count": 1,
   "metadata": {},
   "outputs": [],
   "source": [
    "%load_ext autoreload\n",
    "%autoreload 2\n",
    "import sys\n",
    "sys.path.append('..')\n",
    "from buffer import MultiModelActivationBuffer\n",
    "\n",
    "from datasets import load_dataset\n",
    "import torch as t\n",
    "\n",
    "from nnsight import LanguageModel\n",
    "from buffer import MultiModelActivationBuffer\n",
    "from trainers.top_k import TopKTrainer, AutoEncoderTopK\n",
    "from training import trainSAE"
   ]
  },
  {
   "cell_type": "code",
   "execution_count": null,
   "metadata": {},
   "outputs": [],
   "source": [
    "layer = 5\n",
    "expansion = 16\n",
    "num_tokens = int(1e6)\n",
    "out_batch_size = 4096\n",
    "\n",
    "submodule_list = []\n",
    "model_list = []\n",
    "for step in [1, 2, 4, 8]:\n",
    "    model = LanguageModel(\"EleutherAI/pythia-70m\", revision=f\"step{step}\", trust_remote_code=False)\n",
    "    model_list.append(model)\n",
    "    submodule_list.append(model.gpt_neox.layers[1].mlp)\n",
    "                       \n",
    "\n",
    "device = \"cuda:0\"\n",
    "\n",
    "activation_dim = 512\n",
    "dictionary_size = expansion * activation_dim\n",
    "\n",
    "dataset = load_dataset('Skylion007/openwebtext', split='train', streaming=True,\n",
    "                                trust_remote_code=True)\n",
    "\n",
    "class CustomData():\n",
    "    def __init__(self, dataset):\n",
    "        self.data = iter(dataset)\n",
    "\n",
    "    def __iter__(self):\n",
    "        return self\n",
    "\n",
    "    def __next__(self):\n",
    "        return next(self.data)['text']\n",
    "\n",
    "data = CustomData(dataset)\n",
    "\n",
    "\n",
    "buffer = MultiModelActivationBuffer(\n",
    "    data=data,\n",
    "    model_list=model_list,\n",
    "    submodule_list=submodule_list,\n",
    "    d_submodule=activation_dim, # output dimension of the model component\n",
    "    n_ctxs=128,  # you can set this higher or lower dependong on your available memory\n",
    "    device=device,\n",
    "    refresh_batch_size=128,\n",
    "    out_batch_size=out_batch_size,\n",
    ")  # buffer will yield batches of tensors of dimension = submodule's output dimension"
   ]
  },
  {
   "cell_type": "code",
   "execution_count": null,
   "metadata": {},
   "outputs": [],
   "source": [
    "trainer_cfg = {\n",
    "    \"trainer\": TopKTrainer,\n",
    "    \"dict_class\": AutoEncoderTopK,\n",
    "    \"activation_dim\": activation_dim * len(model_list),\n",
    "    \"dict_size\": dictionary_size,\n",
    "    \"lr\": 1e-3,\n",
    "    \"device\": device,\n",
    "    \"steps\": num_tokens // out_batch_size,\n",
    "    \"k\": 128,\n",
    "    \"layer\": layer,\n",
    "    \"lm_name\": \"blah\",\n",
    "    \"warmup_steps\": 0,\n",
    "}\n",
    "\n",
    "# train the sparse autoencoder (SAE)\n",
    "ae = trainSAE(\n",
    "    data=buffer,  # you could also use another (i.e. pytorch dataloader) here instead of buffer\n",
    "    trainer_configs=[trainer_cfg],\n",
    "    steps=num_tokens // out_batch_size,\n",
    "    autocast_dtype=t.bfloat16\n",
    ")"
   ]
  }
 ],
 "metadata": {
  "kernelspec": {
   "display_name": "Python 3",
   "language": "python",
   "name": "python3"
  },
  "language_info": {
   "codemirror_mode": {
    "name": "ipython",
    "version": 3
   },
   "file_extension": ".py",
   "mimetype": "text/x-python",
   "name": "python",
   "nbconvert_exporter": "python",
   "pygments_lexer": "ipython3",
   "version": "3.11.10"
  }
 },
 "nbformat": 4,
 "nbformat_minor": 2
}
